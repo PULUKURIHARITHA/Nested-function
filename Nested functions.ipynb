{
 "cells": [
  {
   "cell_type": "code",
   "execution_count": 1,
   "id": "d67b53d1-08b3-4af4-a555-23fdebe8da1e",
   "metadata": {},
   "outputs": [
    {
     "name": "stdout",
     "output_type": "stream",
     "text": [
      "This is a outer function.......\n",
      "This is  a inner function.......\n"
     ]
    }
   ],
   "source": [
    "#neasted funtion\n",
    "#function in function\n",
    "def outer():\n",
    "    print(\"This is a outer function.......\")\n",
    "    def inner():\n",
    "        print(\"This is  a inner function.......\")\n",
    "    inner()\n",
    "outer()"
   ]
  },
  {
   "cell_type": "code",
   "execution_count": 15,
   "id": "a4286091-dbab-4a61-b400-6b9fbef036d2",
   "metadata": {},
   "outputs": [
    {
     "name": "stdin",
     "output_type": "stream",
     "text": [
      "Enter the number: 15\n",
      "Enter the number: 2\n"
     ]
    },
    {
     "name": "stdout",
     "output_type": "stream",
     "text": [
      "Addition 17\n",
      "Subtract 13\n",
      "product 30\n",
      "division 7.5\n"
     ]
    }
   ],
   "source": [
    "#function with function\n",
    "def cal(a,b):#these are static variables are constant values which are we defind as a,b and turn into lobal static variable\n",
    "    def add():\n",
    "        return a+b\n",
    "    def sub():\n",
    "        return a-b\n",
    "    def mul():\n",
    "        return a*b\n",
    "    def div():\n",
    "        return a/b\n",
    "    print(\"Addition\",add())\n",
    "    print(\"Subtract\",sub())\n",
    "    print(\"product\",mul())\n",
    "    print(\"division\",div())\n",
    "a=int(input(\"Enter the number:\"))#1st executing statements because they are global statements\n",
    "b=int(input(\"Enter the number:\"))\n",
    "cal(a,b)#here it goes to cal statement and execute the 1st statement"
   ]
  },
  {
   "cell_type": "code",
   "execution_count": 19,
   "id": "a1894521-c520-42f4-8492-30d4affd496c",
   "metadata": {},
   "outputs": [
    {
     "name": "stdout",
     "output_type": "stream",
     "text": [
      "10\n",
      "30\n"
     ]
    }
   ],
   "source": [
    "def mul_by(n):\n",
    "    def inner(x):#call inner function x=5\n",
    "        return x*n   #x*2=>5*2=>10 x*3=>10*3=>30\n",
    "    return inner\n",
    "times_2=mul_by(2) #n=2,\n",
    "times_3=mul_by(3) #n=3,\n",
    "print(times_2(5))\n",
    "print(times_3(10))"
   ]
  },
  {
   "cell_type": "code",
   "execution_count": 11,
   "id": "9cf3d1ae-8e18-41ff-a2e1-423230e9e611",
   "metadata": {},
   "outputs": [
    {
     "name": "stdout",
     "output_type": "stream",
     "text": [
      "Hello, Honey!!!!!\n"
     ]
    }
   ],
   "source": [
    "#passing inner\n",
    "def greet(text):\n",
    "    def inner(name):\n",
    "        return f\"{text}, {name}!!!!!\"\n",
    "    return inner\n",
    "hi=greet('Hello')\n",
    "print(hi('Honey'))"
   ]
  },
  {
   "cell_type": "code",
   "execution_count": 18,
   "id": "f045ed12-f07d-4785-9173-820dbe403974",
   "metadata": {},
   "outputs": [
    {
     "name": "stdout",
     "output_type": "stream",
     "text": [
      "Hello,Mr.K\n",
      "Hello,Dr.Philip\n"
     ]
    }
   ],
   "source": [
    "def titled(title):\n",
    "    def greet(name):\n",
    "        return f\"Hello,{title}{name}\"\n",
    "    return greet\n",
    "Mr_greet=titled(\"Mr.\")\n",
    "Dr_greet=titled(\"Dr.\")\n",
    "print(Mr_greet(\"K\"))\n",
    "print(Dr_greet(\"Philip\"))"
   ]
  },
  {
   "cell_type": "code",
   "execution_count": 30,
   "id": "6a41427d-483c-4ec0-bda7-d33cfdf22d7b",
   "metadata": {},
   "outputs": [
    {
     "name": "stdout",
     "output_type": "stream",
     "text": [
      "x=  50\n",
      "locally 75\n",
      "x= 100\n",
      "Lastest value of y globally: 25\n",
      "globally 125\n"
     ]
    }
   ],
   "source": [
    "x=100\n",
    "def display():\n",
    "    x=50\n",
    "    print(\"x= \",x)\n",
    "    print(\"locally\",x+y)\n",
    "display()\n",
    "print(\"x=\",x)\n",
    "y=10\n",
    "y=25\n",
    "print(\"Lastest value of y globally:\",y)\n",
    "print(\"globally\",x+y)"
   ]
  },
  {
   "cell_type": "code",
   "execution_count": 44,
   "id": "ba4dd980-53ac-4e64-af9c-c0fbf0f57c3a",
   "metadata": {},
   "outputs": [
    {
     "name": "stdin",
     "output_type": "stream",
     "text": [
      "enter marks of a subject: 50\n"
     ]
    },
    {
     "name": "stdout",
     "output_type": "stream",
     "text": [
      "Subject1 marks : 50\n"
     ]
    },
    {
     "name": "stdin",
     "output_type": "stream",
     "text": [
      "enter marks of a subject: 45\n"
     ]
    },
    {
     "name": "stdout",
     "output_type": "stream",
     "text": [
      "Subject2 marks : 45\n"
     ]
    },
    {
     "name": "stdin",
     "output_type": "stream",
     "text": [
      "enter marks of a subject: 78\n"
     ]
    },
    {
     "name": "stdout",
     "output_type": "stream",
     "text": [
      "Subject3 marks : 78\n",
      "Total marks stored in global: 173\n"
     ]
    }
   ],
   "source": [
    "total=0\n",
    "def add_subject_marks():\n",
    "    global total\n",
    "    marks=int(input(\"enter marks of a subject:\"))\n",
    "    total+=marks\n",
    "    return marks\n",
    "print(\"Subject1 marks :\",add_subject_marks())\n",
    "print(\"Subject2 marks :\",add_subject_marks())\n",
    "print(\"Subject3 marks :\",add_subject_marks())\n",
    "print(\"Total marks stored in global:\",total)"
   ]
  },
  {
   "cell_type": "code",
   "execution_count": null,
   "id": "54f2e1e3-a213-4546-a49f-748a52338789",
   "metadata": {},
   "outputs": [],
   "source": [
    "subject_marks=[]\n",
    "def add_subject_marks():\n",
    "    mark=int(input(\"Enter marks for a subject:\"))\n",
    "    subject_marks.append(mark)\n",
    "    return mark\n",
    "print(\"Subject 1 marks:\", add_subject_marks)\n",
    "print(\"Subject 2 marks:\", add_subject_marks)\n",
    "print(\"Subject 3 marks:\", add_subject_marks)\n",
    "print(\"AllSubject marks\",subject_marks)\n",
    "total=sum(subject_marks)\n",
    "avg=total/1\n",
    "print(\"Total marks\",sum(subject_marks))\n",
    "print(\"Average\",avg)"
   ]
  }
 ],
 "metadata": {
  "kernelspec": {
   "display_name": "Python 3 (ipykernel)",
   "language": "python",
   "name": "python3"
  },
  "language_info": {
   "codemirror_mode": {
    "name": "ipython",
    "version": 3
   },
   "file_extension": ".py",
   "mimetype": "text/x-python",
   "name": "python",
   "nbconvert_exporter": "python",
   "pygments_lexer": "ipython3",
   "version": "3.12.7"
  }
 },
 "nbformat": 4,
 "nbformat_minor": 5
}
